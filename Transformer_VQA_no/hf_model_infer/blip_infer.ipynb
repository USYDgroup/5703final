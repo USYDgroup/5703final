{
 "cells": [
  {
   "cell_type": "code",
   "execution_count": 15,
   "metadata": {},
   "outputs": [],
   "source": [
    "# Bootstrapped Language-Image Pre-training\n",
    "import os\n",
    "os.environ[\"HF_ENDPOINT\"] = \"https://hf-mirror.com\"\n",
    "import torch\n",
    "import requests\n",
    "from PIL import Image\n",
    "from transformers import BlipProcessor, BlipForQuestionAnswering\n",
    "import matplotlib.pyplot as plt\n",
    "\n",
    "# BlipProcessor and BlipForQuestionAnswering instance\n",
    "processor = BlipProcessor.from_pretrained(\"ybelkada/blip-vqa-base\")\n",
    "model = BlipForQuestionAnswering.from_pretrained(\"ybelkada/blip-vqa-base\")"
   ]
  },
  {
   "cell_type": "code",
   "execution_count": 13,
   "metadata": {},
   "outputs": [
    {
     "name": "stdout",
     "output_type": "stream",
     "text": [
      "cpu\n"
     ]
    }
   ],
   "source": [
    "print(model.device)"
   ]
  },
  {
   "cell_type": "code",
   "execution_count": 16,
   "metadata": {},
   "outputs": [
    {
     "data": {
      "image/png": "[encoded data removed]",
      "text/plain": [
       "<Figure size 640x480 with 1 Axes>"
      ]
     },
     "metadata": {},
     "output_type": "display_data"
    },
    {
     "name": "stderr",
     "output_type": "stream",
     "text": [
      "/home/xinghao/anaconda3/envs/xinghao/lib/python3.10/site-packages/transformers/generation/utils.py:1313: UserWarning: Using `max_length`'s default (20) to control the generation length. This behaviour is deprecated and will be removed from the config in v5 of Transformers -- we recommend using `max_new_tokens` to control the maximum length of the generation.\n",
      "  warnings.warn(\n"
     ]
    },
    {
     "name": "stdout",
     "output_type": "stream",
     "text": [
      "Question: what shape is?\n",
      "square\n"
     ]
    }
   ],
   "source": [
    "img_url = \"https://img0.baidu.com/it/u=1234692956,2844800437&fm=253&fmt=auto&app=138&f=JPEG?w=576&h=386\" \n",
    "raw_image = Image.open(requests.get(img_url, stream=True).raw).convert('RGB')\n",
    "\n",
    "plt.imshow(raw_image)\n",
    "plt.show()\n",
    "\n",
    "question = \"what shape is?\"\n",
    "inputs = processor(raw_image, question, return_tensors=\"pt\")\n",
    "\n",
    "out = model.generate(**inputs)\n",
    "print(\"Question:\",question)\n",
    "print(processor.decode(out[0], skip_special_tokens=True))\n",
    "# total_params = sum(p.numel() for p in model.parameters())\n",
    "# print(total_params)"
   ]
  }
 ],
 "metadata": {
  "kernelspec": {
   "display_name": "conda kernel",
   "language": "python",
   "name": "xinghao"
  },
  "language_info": {
   "codemirror_mode": {
    "name": "ipython",
    "version": 3
   },
   "file_extension": ".py",
   "mimetype": "text/x-python",
   "name": "python",
   "nbconvert_exporter": "python",
   "pygments_lexer": "ipython3",
   "version": "3.10.4"
  }
 },
 "nbformat": 4,
 "nbformat_minor": 2
}
