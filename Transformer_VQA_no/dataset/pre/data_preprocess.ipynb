{
 "cells": [
  {
   "cell_type": "code",
   "execution_count": 5,
   "metadata": {},
   "outputs": [],
   "source": [
    "import pandas as pd\n",
    "import json\n",
    "import pathlib\n",
    "with open('all_train.csv','r') as f:\n",
    "    df_train = pd.read_csv(f,header=None,names=['path','p1','p2','p3','p4','obj'],usecols=['path','obj'])\n",
    "    # print((df_train.iloc[-1]))\n",
    "for index in df_train.index:\n",
    "    parts = pathlib.Path(df_train.loc[index,'path']).parts[1:]\n",
    "    path = pathlib.Path(*parts)\n",
    "    df_train.loc[index,'path'] = str(path)\n",
    "\n",
    "question_template = 'how many ##obj are there?'\n",
    "tmp_path =  ''\n",
    "json_data = []\n",
    "obj_list = []\n",
    "obj_num = 0\n",
    "for i in range(len(df_train)):\n",
    "    path = df_train.iloc[i]['path']\n",
    "    obj = df_train.iloc[i]['obj']\n",
    "    if path != tmp_path:\n",
    "        #新图像\n",
    "        if len(obj_list) > 0 :\n",
    "            new_json_pair = {\n",
    "                'question':question_template.replace('##obj',obj_list[-1]),\n",
    "                'answer':str(obj_num),\n",
    "                'image':tmp_path,\n",
    "                'dataset':'pre'\n",
    "            }\n",
    "            json_data.append(new_json_pair)\n",
    "        obj_num = 1\n",
    "        obj_list = [obj]\n",
    "        tmp_path = path\n",
    "    elif obj not in obj_list:\n",
    "        #新问题\n",
    "        if len(obj_list) > 0  :\n",
    "            new_json_pair = {\n",
    "                'question':question_template.replace('##obj',obj_list[-1]),\n",
    "                'answer':str(obj_num),\n",
    "                'image':tmp_path,\n",
    "                'dataset':'pre'\n",
    "            }\n",
    "            json_data.append(new_json_pair)\n",
    "        obj_num = 1\n",
    "        obj_list.append(obj)\n",
    "    else:\n",
    "        obj_num += 1\n",
    "if len(obj_list) > 0  :\n",
    "            new_json_pair = {\n",
    "                'question':question_template.replace('##obj',obj_list[-1]),\n",
    "                'answer':str(obj_num),\n",
    "                'image':tmp_path,\n",
    "                'dataset':'pre'\n",
    "            }\n",
    "json_data.append(new_json_pair)\n",
    " \n",
    "\n"
   ]
  },
  {
   "cell_type": "code",
   "execution_count": 6,
   "metadata": {},
   "outputs": [
    {
     "name": "stdout",
     "output_type": "stream",
     "text": [
      "22516\n"
     ]
    }
   ],
   "source": [
    "print(len(json_data))\n",
    "with open('json_train.json','w') as f:\n",
    "    json.dump(json_data,f)"
   ]
  },
  {
   "cell_type": "code",
   "execution_count": 4,
   "metadata": {},
   "outputs": [],
   "source": [
    "import pandas as pd\n",
    "import json\n",
    "import random\n",
    "with open('json_train.json','r') as f:\n",
    "   data = json.load(f)\n",
    "length = len(data)\n",
    "train_len = int(0.8*length)\n",
    "random.shuffle(data)\n",
    "with open('pre_train.json','w') as f:\n",
    "    json.dump(data[:train_len],f)\n",
    "        \n",
    "with open('pre_test.json','w') as f: \n",
    "    json.dump(data[train_len:],f)  "
   ]
  },
  {
   "cell_type": "code",
   "execution_count": null,
   "metadata": {},
   "outputs": [],
   "source": []
  }
 ],
 "metadata": {
  "kernelspec": {
   "display_name": "pytorch2.0",
   "language": "python",
   "name": "python3"
  },
  "language_info": {
   "codemirror_mode": {
    "name": "ipython",
    "version": 3
   },
   "file_extension": ".py",
   "mimetype": "text/x-python",
   "name": "python",
   "nbconvert_exporter": "python",
   "pygments_lexer": "ipython3",
   "version": "3.9.19"
  }
 },
 "nbformat": 4,
 "nbformat_minor": 2
}
