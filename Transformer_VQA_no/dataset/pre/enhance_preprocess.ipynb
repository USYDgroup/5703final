{
 "cells": [
  {
   "cell_type": "code",
   "execution_count": 1,
   "metadata": {},
   "outputs": [],
   "source": [
    "import json\n",
    "\n",
    "def load_data(file_path):\n",
    "    with open(file_path, 'r', encoding='utf-8') as file:\n",
    "        data = json.load(file)\n",
    "    return data\n"
   ]
  },
  {
   "cell_type": "code",
   "execution_count": 2,
   "metadata": {},
   "outputs": [],
   "source": [
    "import re\n",
    "\n",
    "def generate_new_questions_and_answers(data):\n",
    "    \"\"\" 基于原始问题，生成新的问题和答案，is指定的格式。 \"\"\"\n",
    "    enhanced_data = []\n",
    "    for item in data:\n",
    "        original_question = item['question']\n",
    "        # 正则表达式提取N， \"how many xxx are there?\"\n",
    "        match = re.search(r\"how many (\\w+) are there\", original_question)\n",
    "        if match:\n",
    "            noun = match.group(1)  # 提取的名词\n",
    "            new_question = \"What object are there?\"\n",
    "            new_answer = noun\n",
    "            enhanced_data.append({\n",
    "                'question': new_question,\n",
    "                'answer': new_answer,\n",
    "                'image': item['image'],\n",
    "                'dataset': item['dataset']\n",
    "            })\n",
    "    return enhanced_data\n",
    "\n"
   ]
  },
  {
   "cell_type": "code",
   "execution_count": 3,
   "metadata": {},
   "outputs": [],
   "source": [
    "def save_data(enhanced_data, output_file_path):\n",
    "    \"\"\" 保存到JSON文件中，and 数据不跨行。 \"\"\"\n",
    "    with open(output_file_path, 'w', encoding='utf-8') as file:\n",
    "        json.dump(enhanced_data, file, ensure_ascii=False) #indent=4\n"
   ]
  },
  {
   "cell_type": "code",
   "execution_count": 4,
   "metadata": {},
   "outputs": [],
   "source": [
    "def main():\n",
    "    input_file_path = 'pre_train.json'\n",
    "    output_file_path = 'enhanced_pre_train.json'\n",
    "    \n",
    "    # 加载数据\n",
    "    data = load_data(input_file_path)\n",
    "    \n",
    "    # 生成新的问题和答案\n",
    "    enhanced_data = generate_new_questions_and_answers(data)\n",
    "    \n",
    "    # 保存增强后的数据\n",
    "    save_data(enhanced_data, output_file_path)\n",
    "\n",
    "# 运行主函数\n",
    "if __name__ == \"__main__\":\n",
    "    main()"
   ]
  },
  {
   "cell_type": "code",
   "execution_count": 5,
   "metadata": {},
   "outputs": [
    {
     "name": "stdout",
     "output_type": "stream",
     "text": [
      "New training and test datasets have been created and saved.\n"
     ]
    }
   ],
   "source": [
    "import json\n",
    "import random\n",
    "\n",
    "# Load the JSON files\n",
    "def load_json(file_path):\n",
    "    with open(file_path, 'r') as file:\n",
    "        return json.load(file)\n",
    "\n",
    "# Load your JSON files\n",
    "enhanced_pre_train = load_json('enhanced_pre_train.json')\n",
    "pre_train = load_json('pre_train.json')\n",
    "pre_test = load_json('pre_test.json')\n",
    "\n",
    "# Concatenate the data\n",
    "combined_data = enhanced_pre_train + pre_train + pre_test\n",
    "\n",
    "# Shuffle the combined data\n",
    "random.shuffle(combined_data)\n",
    "\n",
    "# Split into 70% training and 30% test\n",
    "split_index = int(0.7 * len(combined_data))\n",
    "new_pre_train = combined_data[:split_index]\n",
    "new_pre_test = combined_data[split_index:]\n",
    "\n",
    "# Save the new datasets\n",
    "def save_json(data, file_path):\n",
    "    with open(file_path, 'w') as file:\n",
    "        json.dump(data, file)\n",
    "\n",
    "# Save the new training and test sets\n",
    "save_json(new_pre_train, 'new_pre_train.json')\n",
    "save_json(new_pre_test, 'new_pre_test.json')\n",
    "\n",
    "print(\"New training and test datasets have been created and saved.\")\n"
   ]
  }
 ],
 "metadata": {
  "kernelspec": {
   "display_name": "pytorch2.0",
   "language": "python",
   "name": "python3"
  },
  "language_info": {
   "codemirror_mode": {
    "name": "ipython",
    "version": 3
   },
   "file_extension": ".py",
   "mimetype": "text/x-python",
   "name": "python",
   "nbconvert_exporter": "python",
   "pygments_lexer": "ipython3",
   "version": "3.9.19"
  },
  "orig_nbformat": 4
 },
 "nbformat": 4,
 "nbformat_minor": 2
}
