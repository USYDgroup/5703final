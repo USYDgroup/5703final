{
 "cells": [
  {
   "cell_type": "code",
   "execution_count": 1,
   "metadata": {},
   "outputs": [],
   "source": [
    "import json\n",
    "\n",
    "def load_data(file_paths):\n",
    "    data = []\n",
    "    for file_path in file_paths:\n",
    "        with open(file_path, \"r\", encoding=\"utf-8\") as f:\n",
    "            data.extend(json.load(f))\n",
    "    return data\n"
   ]
  },
  {
   "cell_type": "code",
   "execution_count": 2,
   "metadata": {},
   "outputs": [],
   "source": [
    "def extract_answers(data):\n",
    "    answers = [item['answer'] for item in data]\n",
    "    return answers\n"
   ]
  },
  {
   "cell_type": "code",
   "execution_count": 3,
   "metadata": {},
   "outputs": [],
   "source": [
    "from collections import Counter\n",
    "\n",
    "def count_categories(answers):\n",
    "    category_counts = Counter(answers)\n",
    "    return category_counts\n"
   ]
  },
  {
   "cell_type": "code",
   "execution_count": 4,
   "metadata": {},
   "outputs": [],
   "source": [
    "def print_category_counts(category_counts):\n",
    "    for category, count in category_counts.items():\n",
    "        print(f\"{category}: {count}\")\n"
   ]
  },
  {
   "cell_type": "code",
   "execution_count": 6,
   "metadata": {},
   "outputs": [
    {
     "name": "stdout",
     "output_type": "stream",
     "text": [
      "4: 2633\n",
      "8: 1193\n",
      "2: 4035\n",
      "1: 5160\n",
      "9: 843\n",
      "3: 3227\n",
      "5: 2215\n",
      "6: 1797\n",
      "7: 1413\n"
     ]
    }
   ],
   "source": [
    "def main():\n",
    "    train_file = ['/home/admin1/5703-upload/5703/Transformer_VQA_no/dataset/pre/pre_train.json']\n",
    "    test_file = ['/home/admin1/5703-upload/5703/Transformer_VQA_no/dataset/pre/pre_test.json']\n",
    "    data_root = '/home/admin1/5703-upload/5703/Transformer_VQA_no/dataset/pre' \n",
    "\n",
    "    train_data = load_data(train_file)\n",
    "    test_data = load_data(test_file)\n",
    "\n",
    "    # 合并数据\n",
    "    combined_data = train_data + test_data\n",
    "\n",
    "    # 提取答案\n",
    "    answers = extract_answers(combined_data)\n",
    "\n",
    "    # 统计类别数量\n",
    "    category_counts = count_categories(answers)\n",
    "\n",
    "    # 输出统计结果\n",
    "    print_category_counts(category_counts)\n",
    "\n",
    "if __name__ == \"__main__\":\n",
    "    main()\n"
   ]
  }
 ],
 "metadata": {
  "kernelspec": {
   "display_name": "pytorch2.0",
   "language": "python",
   "name": "python3"
  },
  "language_info": {
   "codemirror_mode": {
    "name": "ipython",
    "version": 3
   },
   "file_extension": ".py",
   "mimetype": "text/x-python",
   "name": "python",
   "nbconvert_exporter": "python",
   "pygments_lexer": "ipython3",
   "version": "3.9.19"
  },
  "orig_nbformat": 4
 },
 "nbformat": 4,
 "nbformat_minor": 2
}
